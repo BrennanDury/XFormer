{
 "cells": [
  {
   "cell_type": "code",
   "execution_count": 1,
   "metadata": {},
   "outputs": [],
   "source": [
    "from config import n_cpus, d_model, n_encoder_blocks, n_decoder_blocks, n_heads, p\n",
    "import torch\n",
    "torch.set_num_threads(n_cpus)\n",
    "from vanilla import Transformer\n",
    "from pipeline import test\n",
    "from data_management import load_data, split_data, input_vocab_size, output_vocab_size"
   ]
  },
  {
   "cell_type": "code",
   "execution_count": 2,
   "metadata": {},
   "outputs": [],
   "source": [
    "en, decode_en = load_data('data/small_vocab_en.csv')\n",
    "fr, decode_fr = load_data('data/small_vocab_fr.csv')\n",
    "x_train, y_train, x_test, y_test, training_set = split_data(en, fr)"
   ]
  },
  {
   "cell_type": "code",
   "execution_count": 3,
   "metadata": {},
   "outputs": [],
   "source": [
    "model = Transformer(input_vocab_size, output_vocab_size, d_model=d_model, n_encoder_blocks=n_encoder_blocks,\n",
    "                    n_decoder_blocks=n_decoder_blocks, n_heads=n_heads, p=p)\n",
    "model.load_state_dict(torch.load('models/vanilla6'))\n",
    "model.eval();"
   ]
  },
  {
   "cell_type": "code",
   "execution_count": 4,
   "metadata": {},
   "outputs": [
    {
     "data": {
      "text/plain": [
       "0.3996063091712761"
      ]
     },
     "execution_count": 4,
     "metadata": {},
     "output_type": "execute_result"
    }
   ],
   "source": [
    "test(model, x_test, y_test, n_tests=1000)\n",
    "# BLEU score"
   ]
  },
  {
   "cell_type": "code",
   "execution_count": null,
   "metadata": {},
   "outputs": [],
   "source": []
  }
 ],
 "metadata": {
  "kernelspec": {
   "display_name": "Python 3.10.6 ('ml')",
   "language": "python",
   "name": "python3"
  },
  "language_info": {
   "codemirror_mode": {
    "name": "ipython",
    "version": 3
   },
   "file_extension": ".py",
   "mimetype": "text/x-python",
   "name": "python",
   "nbconvert_exporter": "python",
   "pygments_lexer": "ipython3",
   "version": "3.10.6"
  },
  "orig_nbformat": 4,
  "vscode": {
   "interpreter": {
    "hash": "3db11ad204e4483e6b31e457658b38bffda7dbc199f0af1acea9e44a8cd6db0f"
   }
  }
 },
 "nbformat": 4,
 "nbformat_minor": 2
}
